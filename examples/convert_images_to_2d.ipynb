{
 "cells": [
  {
   "cell_type": "markdown",
   "metadata": {},
   "source": [
    "# Convert camera images to pixels on a s square grid"
   ]
  },
  {
   "cell_type": "code",
   "execution_count": 1,
   "metadata": {
    "execution": {
     "iopub.execute_input": "2023-01-19T16:18:06.326581Z",
     "iopub.status.busy": "2023-01-19T16:18:06.326291Z",
     "iopub.status.idle": "2023-01-19T16:18:13.006951Z",
     "shell.execute_reply": "2023-01-19T16:18:13.005845Z"
    }
   },
   "outputs": [],
   "source": [
    "from ctapipe.utils import get_dataset_path\n",
    "from ctapipe.visualization import CameraDisplay\n",
    "from ctapipe.instrument import SubarrayDescription\n",
    "from ctapipe.io import EventSource\n",
    "from ctapipe.image.toymodel import Gaussian\n",
    "import matplotlib.pyplot as plt\n",
    "import astropy.units as u"
   ]
  },
  {
   "cell_type": "code",
   "execution_count": 2,
   "metadata": {
    "execution": {
     "iopub.execute_input": "2023-01-19T16:18:13.014010Z",
     "iopub.status.busy": "2023-01-19T16:18:13.012081Z",
     "iopub.status.idle": "2023-01-19T16:18:14.118063Z",
     "shell.execute_reply": "2023-01-19T16:18:14.116735Z"
    }
   },
   "outputs": [],
   "source": [
    "# get the subarray from an example file\n",
    "subarray = SubarrayDescription.read(\"dataset://gamma_prod5.simtel.zst\")"
   ]
  },
  {
   "cell_type": "markdown",
   "metadata": {},
   "source": [
    "## Geometries with square pixels\n",
    "\n",
    "Define a camera geometry and generate a dummy image:"
   ]
  },
  {
   "cell_type": "code",
   "execution_count": 3,
   "metadata": {
    "execution": {
     "iopub.execute_input": "2023-01-19T16:18:14.125396Z",
     "iopub.status.busy": "2023-01-19T16:18:14.123467Z",
     "iopub.status.idle": "2023-01-19T16:18:14.160813Z",
     "shell.execute_reply": "2023-01-19T16:18:14.159755Z"
    }
   },
   "outputs": [],
   "source": [
    "geom = subarray.tel[40].camera.geometry\n",
    "model = Gaussian(\n",
    "    x=0.05 * u.m,\n",
    "    y=0.05 * u.m,\n",
    "    width=0.01 * u.m,\n",
    "    length=0.05 * u.m,\n",
    "    psi=\"30d\",\n",
    ")\n",
    "_, image, _ = model.generate_image(geom, intensity=500, nsb_level_pe=3)"
   ]
  },
  {
   "cell_type": "code",
   "execution_count": 4,
   "metadata": {
    "execution": {
     "iopub.execute_input": "2023-01-19T16:18:14.168378Z",
     "iopub.status.busy": "2023-01-19T16:18:14.166482Z",
     "iopub.status.idle": "2023-01-19T16:18:14.841173Z",
     "shell.execute_reply": "2023-01-19T16:18:14.839951Z"
    }
   },
   "outputs": [
    {
     "data": {
      "text/plain": [
       "<ctapipe.visualization.mpl_camera.CameraDisplay at 0x7f552184dca0>"
      ]
     },
     "execution_count": 4,
     "metadata": {},
     "output_type": "execute_result"
    }
   ],
   "source": [
    "CameraDisplay(geom, image)"
   ]
  },
  {
   "cell_type": "markdown",
   "metadata": {},
   "source": [
    "The `CameraGeometry` has functions to convert the 1d image arrays to 2d arrays and back to the 1d array:"
   ]
  },
  {
   "cell_type": "code",
   "execution_count": 5,
   "metadata": {
    "execution": {
     "iopub.execute_input": "2023-01-19T16:18:14.845651Z",
     "iopub.status.busy": "2023-01-19T16:18:14.845374Z",
     "iopub.status.idle": "2023-01-19T16:18:14.852451Z",
     "shell.execute_reply": "2023-01-19T16:18:14.850351Z"
    }
   },
   "outputs": [],
   "source": [
    "image_square = geom.image_to_cartesian_representation(image)"
   ]
  },
  {
   "cell_type": "code",
   "execution_count": 6,
   "metadata": {
    "execution": {
     "iopub.execute_input": "2023-01-19T16:18:14.856874Z",
     "iopub.status.busy": "2023-01-19T16:18:14.856595Z",
     "iopub.status.idle": "2023-01-19T16:18:14.868435Z",
     "shell.execute_reply": "2023-01-19T16:18:14.867546Z"
    }
   },
   "outputs": [
    {
     "data": {
      "text/plain": [
       "<matplotlib.image.AxesImage at 0x7f551fcb5850>"
      ]
     },
     "execution_count": 6,
     "metadata": {},
     "output_type": "execute_result"
    }
   ],
   "source": [
    "plt.imshow(image_square)"
   ]
  },
  {
   "cell_type": "code",
   "execution_count": 7,
   "metadata": {
    "execution": {
     "iopub.execute_input": "2023-01-19T16:18:14.871876Z",
     "iopub.status.busy": "2023-01-19T16:18:14.871621Z",
     "iopub.status.idle": "2023-01-19T16:18:14.875423Z",
     "shell.execute_reply": "2023-01-19T16:18:14.874451Z"
    }
   },
   "outputs": [],
   "source": [
    "image_1d = geom.image_from_cartesian_representation(image_square)"
   ]
  },
  {
   "cell_type": "code",
   "execution_count": 8,
   "metadata": {
    "execution": {
     "iopub.execute_input": "2023-01-19T16:18:14.883580Z",
     "iopub.status.busy": "2023-01-19T16:18:14.883214Z",
     "iopub.status.idle": "2023-01-19T16:18:15.358588Z",
     "shell.execute_reply": "2023-01-19T16:18:15.357496Z"
    }
   },
   "outputs": [
    {
     "data": {
      "text/plain": [
       "<ctapipe.visualization.mpl_camera.CameraDisplay at 0x7f551fcb7100>"
      ]
     },
     "execution_count": 8,
     "metadata": {},
     "output_type": "execute_result"
    }
   ],
   "source": [
    "CameraDisplay(geom, image_1d)"
   ]
  },
  {
   "cell_type": "markdown",
   "metadata": {},
   "source": [
    "## Geometries with hexagonal pixels\n",
    "\n",
    "Define a camera geometry and generate a dummy image:"
   ]
  },
  {
   "cell_type": "code",
   "execution_count": 9,
   "metadata": {
    "execution": {
     "iopub.execute_input": "2023-01-19T16:18:15.365488Z",
     "iopub.status.busy": "2023-01-19T16:18:15.363925Z",
     "iopub.status.idle": "2023-01-19T16:18:15.373936Z",
     "shell.execute_reply": "2023-01-19T16:18:15.373074Z"
    }
   },
   "outputs": [],
   "source": [
    "geom = subarray.tel[1].camera.geometry\n",
    "model = Gaussian(\n",
    "    x=0.5 * u.m,\n",
    "    y=0.5 * u.m,\n",
    "    width=0.1 * u.m,\n",
    "    length=0.2 * u.m,\n",
    "    psi=\"30d\",\n",
    ")\n",
    "_, image, _ = model.generate_image(geom, intensity=5000)"
   ]
  },
  {
   "cell_type": "code",
   "execution_count": 10,
   "metadata": {
    "execution": {
     "iopub.execute_input": "2023-01-19T16:18:15.379539Z",
     "iopub.status.busy": "2023-01-19T16:18:15.378037Z",
     "iopub.status.idle": "2023-01-19T16:18:15.819067Z",
     "shell.execute_reply": "2023-01-19T16:18:15.818061Z"
    }
   },
   "outputs": [
    {
     "data": {
      "text/plain": [
       "<ctapipe.visualization.mpl_camera.CameraDisplay at 0x7f551f80c340>"
      ]
     },
     "execution_count": 10,
     "metadata": {},
     "output_type": "execute_result"
    }
   ],
   "source": [
    "CameraDisplay(geom, image)"
   ]
  },
  {
   "cell_type": "code",
   "execution_count": 11,
   "metadata": {
    "execution": {
     "iopub.execute_input": "2023-01-19T16:18:15.825604Z",
     "iopub.status.busy": "2023-01-19T16:18:15.823942Z",
     "iopub.status.idle": "2023-01-19T16:18:15.836886Z",
     "shell.execute_reply": "2023-01-19T16:18:15.835894Z"
    }
   },
   "outputs": [],
   "source": [
    "image_square = geom.image_to_cartesian_representation(image)"
   ]
  },
  {
   "cell_type": "markdown",
   "metadata": {},
   "source": [
    "## Conversion into square geometry\n",
    "\n",
    "Since the resulting array has square pixels, the pixel grid has to be rotated and distorted.\n",
    "This is reversible (The `image_from_cartesian_representation` method takes care of this):"
   ]
  },
  {
   "cell_type": "code",
   "execution_count": 12,
   "metadata": {
    "execution": {
     "iopub.execute_input": "2023-01-19T16:18:15.843412Z",
     "iopub.status.busy": "2023-01-19T16:18:15.841873Z",
     "iopub.status.idle": "2023-01-19T16:18:15.853521Z",
     "shell.execute_reply": "2023-01-19T16:18:15.852670Z"
    }
   },
   "outputs": [
    {
     "data": {
      "text/plain": [
       "<matplotlib.image.AxesImage at 0x7f551f80cd60>"
      ]
     },
     "execution_count": 12,
     "metadata": {},
     "output_type": "execute_result"
    }
   ],
   "source": [
    "plt.imshow(image_square)"
   ]
  },
  {
   "cell_type": "code",
   "execution_count": 13,
   "metadata": {
    "execution": {
     "iopub.execute_input": "2023-01-19T16:18:15.863689Z",
     "iopub.status.busy": "2023-01-19T16:18:15.859927Z",
     "iopub.status.idle": "2023-01-19T16:18:15.872639Z",
     "shell.execute_reply": "2023-01-19T16:18:15.871752Z"
    }
   },
   "outputs": [],
   "source": [
    "image_1d = geom.image_from_cartesian_representation(image_square)"
   ]
  },
  {
   "cell_type": "code",
   "execution_count": 14,
   "metadata": {
    "execution": {
     "iopub.execute_input": "2023-01-19T16:18:15.880776Z",
     "iopub.status.busy": "2023-01-19T16:18:15.879249Z",
     "iopub.status.idle": "2023-01-19T16:18:16.575389Z",
     "shell.execute_reply": "2023-01-19T16:18:16.574299Z"
    }
   },
   "outputs": [],
   "source": [
    "disp = CameraDisplay(geom, image_1d)"
   ]
  }
 ],
 "metadata": {
  "kernelspec": {
   "display_name": "Python 3 (ipykernel)",
   "language": "python",
   "name": "python3"
  },
  "language_info": {
   "codemirror_mode": {
    "name": "ipython",
    "version": 3
   },
   "file_extension": ".py",
   "mimetype": "text/x-python",
   "name": "python",
   "nbconvert_exporter": "python",
   "pygments_lexer": "ipython3",
   "version": "3.8.16"
  }
 },
 "nbformat": 4,
 "nbformat_minor": 4
}
